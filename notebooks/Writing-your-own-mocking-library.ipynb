{
 "metadata": {
  "name": "",
  "signature": "sha256:45f0a4f663d3c0c0c9025fd6c929e3157453eabafb727b29ecf09f65bcfabe6b"
 },
 "nbformat": 3,
 "nbformat_minor": 0,
 "worksheets": [
  {
   "cells": [
    {
     "cell_type": "markdown",
     "metadata": {},
     "source": [
      "Writing your own mocking libary\n",
      "===============================\n",
      "Since I was testing different libraries I wasn't satisified by the result. I cannot yet say whether I'm able to produce better results by writing an own one but let's give it a try. This notebook document will be constantly updated if there are any news."
     ]
    },
    {
     "cell_type": "code",
     "collapsed": false,
     "input": [
      "import sys\n",
      "sys.path.append(\"..\")"
     ],
     "language": "python",
     "metadata": {},
     "outputs": [],
     "prompt_number": 9
    },
    {
     "cell_type": "markdown",
     "metadata": {},
     "source": [
      "What you can do with a mock instance\n",
      "------------------------------------\n",
      "Before patching things let us see what we can do with a mock. A mock is placeholder for something else; it can be a module a class a function or a method. For now let us just concentrate on the mock instance itself.\n",
      " - you can call a method with any parameters also the method does not exist\n",
      " - you can write to an attribute also the attribute does not exist (it will be created then)\n",
      " - you can read from an attribute also the attribute does not exist (it will be the mock instance itself then)\n",
      " - you can use the mock to store attributes.\n",
      " - the mock - of course - has predefines methods but with special signature by starting with name \"mock\\_\" (like mock\\_history)\n",
      " - Each call and each access to an attribute is stored in the mock history. For calls we store the name and all method arguments. For attributes we store the operation, name, current value and new value.\n",
      " - You have to be precise when searching for a call or for an attribute in the history (otherwise you have to iterate yourself)\n",
      "\n",
      "It's to mention that the order of keyword arguments is not preserved."
     ]
    },
    {
     "cell_type": "code",
     "collapsed": false,
     "input": [
      "from concept.mock import Mock, Call, Attribute\n",
      "\n",
      "mock = Mock(1024, 3.1415926535, \"hello\", key1=2048, key2=1.707, key3=\"world\")\n",
      "mock.foo(4096, \"another day in paradise\", key1=8192)\n",
      "mock.age = 99\n",
      "mock.age = 100\n",
      "age = mock.age\n",
      "\n",
      "for entry in mock.mock_history():\n",
      "    print(entry)\n",
      "\n",
      "# precise call\n",
      "assert Call(\"__init__\", 1024, 3.1415926535, \"hello\", key1=2048, key2=1.707, key3=\"world\") in mock.mock_history()\n",
      "# not precise enough\n",
      "assert Call(\"__init__\") not in mock.mock_history()\n",
      "# precise attribute\n",
      "assert Attribute(operation=Attribute.READ, name=\"age\", given_value=100) in mock.mock_history()\n",
      "# not precise enough\n",
      "assert Attribute(operation=Attribute.READ, name=\"age\") not in mock.mock_history()"
     ],
     "language": "python",
     "metadata": {},
     "outputs": [
      {
       "output_type": "stream",
       "stream": "stdout",
       "text": [
        "Call(__init__, 1024, 3.1415926535, hello, key1=2048, key2=1.707, key3=world)\n",
        "Call(foo, 4096, another day in paradise, key1=8192)\n",
        "Attribute(operation=created, name=age, value=99)\n",
        "Attribute(operation=changed, name=age, value=99 -> 100)\n",
        "Attribute(operation=read, name=age, value=100)\n"
       ]
      }
     ],
     "prompt_number": 2
    },
    {
     "cell_type": "markdown",
     "metadata": {},
     "source": [
      "Mocking a module (design considerations)\n",
      "----------------------------------------\n",
      "At this moment the patching functionality is not yet implemented. Anyway I have to play a bit with it to get an idea about how it works and what functionality is missing. The **chdir** and **rm** are very probably the easy thing when mocking a module. Of course the **__init__** in the history is not wanted when mocking a module but that can be adjusted easily since the history is a list and we remove first item. What you can see - or to be more precise - what you can **not** see is the call of **isfile**. Since **os** is now a mock a new mock is provided when accessing **path** (because path is not known); when accessing **isfile** on the mock for path the call will be registered there. So here comes the one question how to handle that for patching because usually the patching mechanism usually is about **one** object.\n",
      "\n",
      "Also important learning in this section: if we have not yet done the import of the **os** module we don't get it back with a  simple substitution ... we have to remove it from the dictionary. The import mechanism works same ways as caching; things already *loaded* will not be loaded again."
     ]
    },
    {
     "cell_type": "code",
     "collapsed": false,
     "input": [
      "mocked_module = Mock()\n",
      "\n",
      "old_os = sys.modules['os']\n",
      "sys.modules['os'] = mocked_module\n",
      "\n",
      "import os\n",
      "os.chdir('/tmp')\n",
      "os.rm('/tmp/file_that_does_not_exist')\n",
      "os.path.isfile('/tmp/file_that_does_not_exist')\n",
      "\n",
      "for entry in mocked_module.mock_history():\n",
      "    print(entry)\n",
      "\n",
      "# doesn't work as expected\n",
      "print(old_os)\n",
      "sys.modules['os'] = old_os\n",
      "print(os.path.isdir('/tmp'))\n",
      "# important, otherwise the import will not happen\n",
      "del sys.modules['os']\n",
      "# now we are fine\n",
      "import os\n",
      "assert os.path.isdir('/tmp')\n",
      "assert not os.path.isfile('/tmp/file_that_does_not_exist')"
     ],
     "language": "python",
     "metadata": {},
     "outputs": [
      {
       "output_type": "stream",
       "stream": "stdout",
       "text": [
        "Call(__init__)\n",
        "Call(chdir, /tmp)\n",
        "Call(rm, /tmp/file_that_does_not_exist)\n",
        "<module 'os' from '/usr/lib/python2.7/os.pyc'>\n",
        "None\n"
       ]
      }
     ],
     "prompt_number": 20
    },
    {
     "cell_type": "code",
     "collapsed": false,
     "input": [],
     "language": "python",
     "metadata": {},
     "outputs": []
    }
   ],
   "metadata": {}
  }
 ]
}