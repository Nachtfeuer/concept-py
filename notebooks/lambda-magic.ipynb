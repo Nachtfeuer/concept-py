{
 "metadata": {
  "name": "",
  "signature": "sha256:76a63b9fff81644083bf325b362165247ac8503f48d14a0ef355f784ef4b80a2"
 },
 "nbformat": 3,
 "nbformat_minor": 0,
 "worksheets": [
  {
   "cells": [
    {
     "cell_type": "markdown",
     "metadata": {},
     "source": [
      "Serializing and deserializing lambda functions\n",
      "==============================================\n",
      "\n",
      "Lambda and the module marshal\n",
      "-----------------------------\n",
      "The first investigation is to check whether we can serialize and deserialize lambda functions. I basically took the example from here: http://stackoverflow.com/questions/11878300/serializing-and-deserializing-lambdas"
     ]
    },
    {
     "cell_type": "code",
     "collapsed": false,
     "input": [
      "import marshal, types\n",
      "\n",
      "# a simple square function with a lambda function\n",
      "square = lambda value: value**2\n",
      "print(square, square(32))\n",
      "\n",
      "# serializing the lambda function\n",
      "square_code_serialized = marshal.dumps(square.func_code)\n",
      "print(square_code_serialized)\n",
      "\n",
      "# desersializing the lambda function\n",
      "square_reloaded = types.FunctionType(marshal.loads(square_code_serialized), globals())\n",
      "print(square_reloaded, square_reloaded(32))"
     ],
     "language": "python",
     "metadata": {},
     "outputs": [
      {
       "output_type": "stream",
       "stream": "stdout",
       "text": [
        "(<function <lambda> at 0x7f7cd8177140>, 1024)\n",
        "c\u0001\u0000\u0000\u0000\u0001\u0000\u0000\u0000\u0002\u0000\u0000\u0000C\u0000\u0000\u0000s\b\u0000\u0000\u0000|\u0000\u0000d\u0001\u0000\u0013S(\u0002\u0000\u0000\u0000Ni\u0002\u0000\u0000\u0000(\u0000\u0000\u0000\u0000(\u0001\u0000\u0000\u0000t\u0005\u0000\u0000\u0000value(\u0000\u0000\u0000\u0000(\u0000\u0000\u0000\u0000s\u001e",
        "\u0000\u0000\u0000<ipython-input-3-7cb759660c89>t\b\u0000\u0000\u0000<lambda>\u0004\u0000\u0000\u0000s\u0000\u0000\u0000\u0000\n",
        "(<function <lambda> at 0x7f7cd8177398>, 1024)\n"
       ]
      }
     ],
     "prompt_number": 3
    },
    {
     "cell_type": "markdown",
     "metadata": {},
     "source": [
      "Lambda and JSON\n",
      "---------------\n",
      "The next step is to check whether we can serialize and deserialize it via JSON. It's to mention that we here miss the automatic conversion from/to lambda so we provided it directly otherwise it wouldn't work (You cannot do a \"json.dumps({'code': lambda value: value**2})\")"
     ]
    },
    {
     "cell_type": "code",
     "collapsed": false,
     "input": [
      "import json\n",
      "json_serialized = json.dumps({'code': square_code_serialized})\n",
      "print(json_serialized)\n",
      "\n",
      "json_deserialized = json.loads(json_serialized)\n",
      "json_deserialized['code'] = types.FunctionType(marshal.loads(json_deserialized['code']), globals())\n",
      "print(json_deserialized, json_deserialized['code'](32))"
     ],
     "language": "python",
     "metadata": {},
     "outputs": [
      {
       "output_type": "stream",
       "stream": "stdout",
       "text": [
        "{\"code\": \"c\\u0001\\u0000\\u0000\\u0000\\u0001\\u0000\\u0000\\u0000\\u0002\\u0000\\u0000\\u0000C\\u0000\\u0000\\u0000s\\b\\u0000\\u0000\\u0000|\\u0000\\u0000d\\u0001\\u0000\\u0013S(\\u0002\\u0000\\u0000\\u0000Ni\\u0002\\u0000\\u0000\\u0000(\\u0000\\u0000\\u0000\\u0000(\\u0001\\u0000\\u0000\\u0000t\\u0005\\u0000\\u0000\\u0000value(\\u0000\\u0000\\u0000\\u0000(\\u0000\\u0000\\u0000\\u0000s\\u001e\\u0000\\u0000\\u0000<ipython-input-3-7cb759660c89>t\\b\\u0000\\u0000\\u0000<lambda>\\u0004\\u0000\\u0000\\u0000s\\u0000\\u0000\\u0000\\u0000\"}\n",
        "({u'code': <function <lambda> at 0x7f7cd8177320>}, 1024)\n"
       ]
      }
     ],
     "prompt_number": 11
    },
    {
     "cell_type": "markdown",
     "metadata": {},
     "source": [
      "JSON Encoder and JSON Decoder\n",
      "-----------------------------\n",
      "Basicall I'm quite comfortable with the encoder class except that I miss a is_lambda function as builtin.\n",
      "Unfortunately the decoder class is not as straight forward. With a hook function I got it also more\n",
      "by trying then by refering to a documentation. A working example but not yet convinced to put it into\n",
      "the concept-py code base."
     ]
    },
    {
     "cell_type": "code",
     "collapsed": false,
     "input": [
      "class LambdaEncoder(json.JSONEncoder):\n",
      "     def default(self, o):\n",
      "        # TODO: missing a is_lambda function ...\n",
      "        LAMBDA = lambda:0\n",
      "        if isinstance(o, type(LAMBDA)):\n",
      "            return marshal.dumps(o.func_code)\n",
      "        return json.JSONEncoder.default(self, o)\n",
      "\n",
      "def lambda_decoder(o):\n",
      "    \"\"\"\n",
      "    a bit tricky since I'm relying on what I have seen when dumping\n",
      "    the serialized lambda code. But since I have no better solution ...\n",
      "    \"\"\"\"\n",
      "    for pos, entry in enumerate(o):\n",
      "        key, value = entry[0], entry[1]\n",
      "        if str(value).find(\"lambda\") >= 0:\n",
      "            o[pos] = (key, types.FunctionType(marshal.loads(value), globals()))\n",
      "    return dict(o)\n",
      "\n",
      "# TODO: using a class for encoding and a function for decoding ... should be harmonized somehow.\n",
      "json_serialized = json.dumps({'code': lambda value: value**2, 'value': 12334},cls=LambdaEncoder)\n",
      "json_deserialized = json.loads(json_serialized, object_pairs_hook=lambda_decoder)\n",
      "print(json_deserialized['code'](32))"
     ],
     "language": "python",
     "metadata": {},
     "outputs": [
      {
       "output_type": "stream",
       "stream": "stdout",
       "text": [
        "{u'code': <function <lambda> at 0x7f7cd809e320>, u'value': 12334}\n",
        "1024\n"
       ]
      }
     ],
     "prompt_number": 47
    },
    {
     "cell_type": "markdown",
     "metadata": {},
     "source": [
      "Conclusion until now\n",
      "--------------------\n",
      " - implementing a is_lambda for function concept.py (no problem)\n",
      " - implementing an encode_lambda function (problem)\n",
      " - implementing a decode_lambda function (problem)\n",
      " \n",
      "The problems mentioned are Python versions and how they handle internals like square.func_code which does not exist in Python 3.x"
     ]
    },
    {
     "cell_type": "code",
     "collapsed": false,
     "input": [],
     "language": "python",
     "metadata": {},
     "outputs": []
    }
   ],
   "metadata": {}
  }
 ]
}