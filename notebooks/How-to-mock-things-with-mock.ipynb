{
 "metadata": {
  "name": "",
  "signature": "sha256:0af43dd3cdbf256d3f973a841f9a23a180339c4d81108758f89edbef92d68b42"
 },
 "nbformat": 3,
 "nbformat_minor": 0,
 "worksheets": [
  {
   "cells": [
    {
     "cell_type": "markdown",
     "metadata": {},
     "source": [
      "How to mock things\n",
      "==================\n",
      "Writing code you might soon get into a situation where you cannot easily test all code because of a not given environment where you can use it. **While unittesting you should not connect to a database, to web services and avoid OS operations**; that's more a topic for regression tests. Writing regressions tests and installing and configuring a test system are another story.\n",
      "\n",
      "After here we start with providing a few functions for demonstrating the way to mock them. Any comments or improvements? Please let me know: thomas.lehmann.private@gmail.com\n",
      "\n",
      "**Please note:** In this article we do not implement unit-tests so please do not worry when using *assert* here."
     ]
    },
    {
     "cell_type": "code",
     "collapsed": false,
     "input": [
      "def low_level_foo(*args, **kwargs):\n",
      "    \"\"\" simulates something like a low level OS call. \"\"\"\n",
      "    print(\"low_level_foo is called with %s and %s\" % (args, kwargs))\n",
      "    return args, kwargs\n",
      "\n",
      "def high_level_foo(*args, **kwargs):\n",
      "    \"\"\" simulates any kind of high level function. \"\"\"\n",
      "    print(\"high_level_foo is called with %s and %s\" % (args, kwargs))\n",
      "    value = low_level_foo(*args, **kwargs)\n",
      "    #low_level_foo(*args, **kwargs)\n",
      "    return value\n",
      "\n",
      "# normal call:\n",
      "high_level_foo(1, 3.1415, \"hello\", name=\"Barney\")"
     ],
     "language": "python",
     "metadata": {},
     "outputs": [
      {
       "output_type": "stream",
       "stream": "stdout",
       "text": [
        "high_level_foo is called with (1, 3.1415, 'hello') and {'name': 'Barney'}\n",
        "low_level_foo is called with (1, 3.1415, 'hello') and {'name': 'Barney'}\n"
       ]
      },
      {
       "metadata": {},
       "output_type": "pyout",
       "prompt_number": 6,
       "text": [
        "((1, 3.1415, 'hello'), {'name': 'Barney'})"
       ]
      }
     ],
     "prompt_number": 6
    },
    {
     "cell_type": "markdown",
     "metadata": {},
     "source": [
      "Mock of a function (calls and parameters)\n",
      "-----------------------------------------\n",
      "You can check whether all parameters which are passed correctly to a low level function call.\n",
      "Try to change a parameter in the first assert to see detailed explanation in the thrown assertion how the low function is called. Also uncomment the second low level call to the in the thrown assertion how often the low level function has been called."
     ]
    },
    {
     "cell_type": "code",
     "collapsed": false,
     "input": [
      "from mock import patch, call\n",
      "\n",
      "with patch(\"__main__.low_level_foo\") as mocked_function:\n",
      "    # now the low level call is patched:\n",
      "    high_level_foo(1, 3.1415, \"hello\", name=\"Barney\")\n",
      "    mocked_function.assert_called_with(1, 3.1415, \"hello\", name=\"Barney\")\n",
      "    mocked_function.assert_called_once_with(1, 3.1415, \"hello\", name=\"Barney\")"
     ],
     "language": "python",
     "metadata": {},
     "outputs": [
      {
       "output_type": "stream",
       "stream": "stdout",
       "text": [
        "high_level_foo is called with (1, 3.1415, 'hello') and {'name': 'Barney'}\n"
       ]
      }
     ],
     "prompt_number": 7
    },
    {
     "cell_type": "markdown",
     "metadata": {},
     "source": [
      "Mock of a function (return value)\n",
      "---------------------------------\n",
      "Mocking a function is done as usual but here we use **return_value** to make the mock returning something other than None since a mock function (or method) doesn't *implement* anything. You see that the function call remains unchanged. Since Python is not type safe **ensure that you return a value that is compatible to the original implementation**. Here it's not a problem because the result of the low level call is returned and not used (Anyway we return a string but the original implementation returns a tuple and a dictionary)."
     ]
    },
    {
     "cell_type": "code",
     "collapsed": false,
     "input": [
      "with patch(\"__main__.low_level_foo\") as mocked_function:\n",
      "    print(high_level_foo(1, 2, 3, 4))\n",
      "    mocked_function.return_value = \"hello world\"\n",
      "    print(high_level_foo(1, 2, 3, 4))"
     ],
     "language": "python",
     "metadata": {},
     "outputs": [
      {
       "output_type": "stream",
       "stream": "stdout",
       "text": [
        "high_level_foo is called with (1, 2, 3, 4) and {}\n",
        "<MagicMock name='low_level_foo()' id='140057798876752'>\n",
        "high_level_foo is called with (1, 2, 3, 4) and {}\n",
        "hello world\n"
       ]
      }
     ],
     "prompt_number": 19
    },
    {
     "cell_type": "markdown",
     "metadata": {},
     "source": [
      "Mocking of an object\n",
      "--------------------\n",
      "Next we intend to mock an object. Therefore we provide two test classes. The class Foo is using and delegating calls to the class Bar. Assume that class Bar represents something like a client connection, a database or a file."
     ]
    },
    {
     "cell_type": "code",
     "collapsed": false,
     "input": [
      "class Bar(object):\n",
      "    def __init__(self, value):\n",
      "        self.value = value\n",
      "    def test1(self):\n",
      "        print(\"Bar.test1() called; current value is %s\" % self.value)\n",
      "    def test2(self, value):\n",
      "        print(\"Bar.test2(%s) called; previous value was %s\" % (value, self.value))\n",
      "        self.value = value\n",
      "\n",
      "class Foo(object):\n",
      "    def __init__(self, value):\n",
      "        self.bar = Bar(value)\n",
      "    def test1(self):\n",
      "        print(\"Foo.test1() called\")\n",
      "        self.bar.test1()\n",
      "    def test2(self, value):\n",
      "        print(\"Foo.test2(%s) called\" % value)\n",
      "        self.bar.test2(value)\n",
      "\n",
      "foo = Foo(\"hello world\")\n",
      "foo.test1()\n",
      "foo.test2(\"sunny days\")"
     ],
     "language": "python",
     "metadata": {},
     "outputs": [
      {
       "output_type": "stream",
       "stream": "stdout",
       "text": [
        "Foo.test1() called\n",
        "Bar.test1() called; current value is hello world\n",
        "Foo.test2(sunny days) called\n",
        "Bar.test2(sunny days) called; previous value was hello world\n"
       ]
      }
     ],
     "prompt_number": 2
    },
    {
     "cell_type": "markdown",
     "metadata": {},
     "source": [
      "Using the assert functions it does work for the call of the constructor (init) but - as it seems - not for the methods. Of course **all** calls are tracked and listed in the field **mock_calls**. A way to assert that a function is called you can do with the **call** class. I just wonder why that has not been done more easy with standard interface \"assert_whatever(param1, .., paramn)\". However you can do the same as we did with the functions (above) with a method but then you would have to patch each individual method which is not comfortable."
     ]
    },
    {
     "cell_type": "code",
     "collapsed": false,
     "input": [
      "with patch(\"__main__.Bar\") as mocked_object:\n",
      "    foo = Foo(\"hello world\")\n",
      "    mocked_object.assert_called_with(\"hello world\")\n",
      "    mocked_object.assert_called_once_with(\"hello world\")\n",
      "    foo.test1()\n",
      "    print(mocked_object.mock_calls)\n",
      "    # I would have prefered to use: mocked_object.test1.assert_called_with()\n",
      "    # but unfortunately it doesn't work this way.\n",
      "    assert call().test1() in mocked_object.mock_calls\n",
      "    foo.test2(\"sunny days\")\n",
      "    print(mocked_object.mock_calls)\n",
      "    assert call().test2(\"sunny days\") in mocked_object.mock_calls"
     ],
     "language": "python",
     "metadata": {},
     "outputs": [
      {
       "output_type": "stream",
       "stream": "stdout",
       "text": [
        "Foo.test1() called\n",
        "[call('hello world'), call().test1()]\n",
        "Foo.test2(sunny days) called\n",
        "[call('hello world'), call().test1(), call().test2('sunny days')]\n"
       ]
      }
     ],
     "prompt_number": 8
    },
    {
     "cell_type": "markdown",
     "metadata": {},
     "source": [
      "Custom mock class\n",
      "-----------------\n",
      "There might be cases where you have to implement a custom mock class. In this case you cannot use the assert function since it's not a mock class from the library but the purpose is here a different one. **You don't wanna test the way the class Bar is used** but to ensure that the mock for the Bar class keeps the program in a valid state **without using external resources**. Assume Bar reads data from file or from a database caching the data the mock variant could simply have the cache (empty) and while testing you fill in the cache to do specific tests."
     ]
    },
    {
     "cell_type": "code",
     "collapsed": false,
     "input": [
      "class BarMock(object):\n",
      "    def __init__(self, value):\n",
      "        self.value = value\n",
      "    def test1(self):\n",
      "        print(\"BarMock.test1() called; current value is %s\" % self.value)\n",
      "    def test2(self, value):\n",
      "        print(\"BarMock.test2(%s) called; previous value was %s\" % (value, self.value))\n",
      "        self.value = value\n",
      "\n",
      "with patch(\"__main__.Bar\", new=BarMock) as mocked_object:\n",
      "    foo = Foo(\"hello world\")\n",
      "    foo.test1()\n",
      "    foo.test2(\"sunny days\")"
     ],
     "language": "python",
     "metadata": {},
     "outputs": [
      {
       "output_type": "stream",
       "stream": "stdout",
       "text": [
        "Foo.test1() called\n",
        "BarMock.test1() called; current value is hello world\n",
        "<__main__.BarMock object at 0x7f61cc072d10>\n",
        "Foo.test2(sunny days) called\n",
        "BarMock.test2(sunny days) called; previous value was hello world\n"
       ]
      }
     ],
     "prompt_number": 90
    },
    {
     "cell_type": "code",
     "collapsed": false,
     "input": [],
     "language": "python",
     "metadata": {},
     "outputs": []
    }
   ],
   "metadata": {}
  }
 ]
}