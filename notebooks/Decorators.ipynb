{
 "metadata": {
  "name": "",
  "signature": "sha256:47ed2e8b0d1761694bb68541ad500641b8cab9023869f45a1321423d2353cd79"
 },
 "nbformat": 3,
 "nbformat_minor": 0,
 "worksheets": [
  {
   "cells": [
    {
     "cell_type": "markdown",
     "metadata": {},
     "source": [
      "The decorator story\n",
      "===================\n",
      "Decorators offer a wide range of functionality in Python. It's the possibility to extend a function, method or a class dynamically. Here some examples where it can be used: performance measurement, singleton, unit testing, ...\n",
      "\n",
      "Simple decorator (logging of calls)\n",
      "-----------------------------------\n",
      "The next code example does print out every call for any decorated function or method with any arguments and return value. The basic flow is that when calling a function like **foo** you are calling the decorator function first and those one is reponsible for delegating the arguments to the real function and to provide the return value of the real function. Additionally the decorator can do the job what it is designed for; here its task is to log the call details which are the name of the function (or method) and its arguments."
     ]
    },
    {
     "cell_type": "code",
     "collapsed": false,
     "input": [
      "import logging\n",
      "\n",
      "def log_call(function):\n",
      "    \"\"\" the function to decorate. \"\"\"\n",
      "    def decorator(*args, **kwargs):\n",
      "        \"\"\" \n",
      "        Decorator that excepts any arguments, returns the value of the decorated function.\n",
      "        Before calling the real function all details of the call are logged.\n",
      "        \"\"\"\n",
      "        logging.info(\"calling %s with %s and %s\" % (function.__name__, args, kwargs))\n",
      "        return function(*args, **kwargs)\n",
      "    return decorator\n",
      "\n",
      "@log_call\n",
      "def foo(*args, **kwargs): pass # a function that does nothing\n",
      "\n",
      "@log_call\n",
      "def bar(): return 42 # a function that does return a value\n",
      "\n",
      "logger = logging.getLogger()\n",
      "logger.setLevel(logging.INFO)\n",
      "\n",
      "foo()\n",
      "foo(\"hello world\", 1024, 3.1415926535, author=\"Agatha Christie\")\n",
      "print(\"Return value of bar() is %s\" % bar())"
     ],
     "language": "python",
     "metadata": {},
     "outputs": [
      {
       "output_type": "stream",
       "stream": "stderr",
       "text": [
        "INFO:root:calling foo with () and {}\n"
       ]
      },
      {
       "output_type": "stream",
       "stream": "stderr",
       "text": [
        "INFO:root:calling foo with ('hello world', 1024, 3.1415926535) and {'author': 'Agatha Christie'}\n"
       ]
      },
      {
       "output_type": "stream",
       "stream": "stderr",
       "text": [
        "INFO:root:calling bar with () and {}\n"
       ]
      },
      {
       "output_type": "stream",
       "stream": "stdout",
       "text": [
        "Return value of bar() is 42\n"
       ]
      }
     ],
     "prompt_number": 18
    },
    {
     "cell_type": "markdown",
     "metadata": {},
     "source": [
      "Configurable decorator (logging calls)\n",
      "--------------------------------------\n",
      "The previous decorator is not flexible because it does always use the same logging function. If you want to use different log functions for different functions or methods then you need to provide parameters for the decorator. The next code allows defining the log function and we use the **logging.info** as default. Writing a decorator works like this:\n",
      " - define a function that takes the decorator parameters\n",
      " - inside define the function decorator that takes the function to decorate and return it\n",
      " - inside of the function decorator define the decorator of the function parameters and return it.\n",
      " - also the inner function usually implements the decorator logic like here: logging of the call.\n",
      " \n",
      "From use perspective you have to notice that you now always have to use the decorator like a call with ()."
     ]
    },
    {
     "cell_type": "code",
     "collapsed": false,
     "input": [
      "def configurable_log_call(log_function=logging.info):\n",
      "    def decorator_function(function):\n",
      "        def decorator_arguments(*args, **kwargs):\n",
      "            log_function(\"calling %s with %s and %s\" % (function.__name__, args, kwargs))\n",
      "            return function(*args, **kwargs)\n",
      "        return decorator_arguments\n",
      "    return decorator_function\n",
      "           \n",
      "@configurable_log_call(logging.debug)\n",
      "def foo(*args, **kwargs): pass # a function that does nothing\n",
      "\n",
      "@configurable_log_call()\n",
      "def bar(): return 42 # a function that does return a value\n",
      "    \n",
      "logger = logging.getLogger()\n",
      "logger.setLevel(logging.DEBUG)\n",
      "\n",
      "foo()\n",
      "foo(\"hello world\", 1024, 3.1415926535, author=\"Agatha Christie\")\n",
      "print(\"Return value of bar() is %s\" % bar())"
     ],
     "language": "python",
     "metadata": {},
     "outputs": [
      {
       "output_type": "stream",
       "stream": "stderr",
       "text": [
        "DEBUG:root:calling foo with () and {}\n"
       ]
      },
      {
       "output_type": "stream",
       "stream": "stderr",
       "text": [
        "DEBUG:root:calling foo with ('hello world', 1024, 3.1415926535) and {'author': 'Agatha Christie'}\n"
       ]
      },
      {
       "output_type": "stream",
       "stream": "stderr",
       "text": [
        "INFO:root:calling bar with () and {}\n"
       ]
      },
      {
       "output_type": "stream",
       "stream": "stdout",
       "text": [
        "Return value of bar() is 42\n"
       ]
      }
     ],
     "prompt_number": 43
    },
    {
     "cell_type": "markdown",
     "metadata": {},
     "source": [
      "Cache and combined decorators\n",
      "-----------------------------\n",
      "The cache in this example is defined for a function that takes one argument and provide a value for it. Because the calculation might be expensive we store the result in a cache. Additionally we combine the cache with a logging which demonstrates that the final function is not called twice for the same value."
     ]
    },
    {
     "cell_type": "code",
     "collapsed": false,
     "input": [
      "import math\n",
      "\n",
      "def cache(function):\n",
      "    CACHE = {}\n",
      "    def decorator(value):\n",
      "        try: return CACHE[value]\n",
      "        except:\n",
      "            result = function(value)\n",
      "            CACHE[value] = result\n",
      "            return result\n",
      "    return decorator\n",
      "\n",
      "@cache\n",
      "@configurable_log_call()\n",
      "def is_prime(n):\n",
      "    if n < 2: return False\n",
      "    if n % 2 == 0: return n == 2\n",
      "    limit = int(math.sqrt(n))\n",
      "    for d in xrange(3, limit+1, 2):\n",
      "        if n % d == 0: return False\n",
      "    return True\n",
      "\n",
      "print([n for n in range(20+1) if is_prime(n)])\n",
      "print([n for n in range(20+1) if is_prime(n)])\n",
      "print([n for n in range(20+1) if is_prime(n)])"
     ],
     "language": "python",
     "metadata": {},
     "outputs": [
      {
       "output_type": "stream",
       "stream": "stderr",
       "text": [
        "INFO:root:calling is_prime with (0,) and {}\n"
       ]
      },
      {
       "output_type": "stream",
       "stream": "stderr",
       "text": [
        "INFO:root:calling is_prime with (1,) and {}\n"
       ]
      },
      {
       "output_type": "stream",
       "stream": "stderr",
       "text": [
        "INFO:root:calling is_prime with (2,) and {}\n"
       ]
      },
      {
       "output_type": "stream",
       "stream": "stderr",
       "text": [
        "INFO:root:calling is_prime with (3,) and {}\n"
       ]
      },
      {
       "output_type": "stream",
       "stream": "stderr",
       "text": [
        "INFO:root:calling is_prime with (4,) and {}\n"
       ]
      },
      {
       "output_type": "stream",
       "stream": "stderr",
       "text": [
        "INFO:root:calling is_prime with (5,) and {}\n"
       ]
      },
      {
       "output_type": "stream",
       "stream": "stderr",
       "text": [
        "INFO:root:calling is_prime with (6,) and {}\n"
       ]
      },
      {
       "output_type": "stream",
       "stream": "stderr",
       "text": [
        "INFO:root:calling is_prime with (7,) and {}\n"
       ]
      },
      {
       "output_type": "stream",
       "stream": "stderr",
       "text": [
        "INFO:root:calling is_prime with (8,) and {}\n"
       ]
      },
      {
       "output_type": "stream",
       "stream": "stderr",
       "text": [
        "INFO:root:calling is_prime with (9,) and {}\n"
       ]
      },
      {
       "output_type": "stream",
       "stream": "stderr",
       "text": [
        "INFO:root:calling is_prime with (10,) and {}\n"
       ]
      },
      {
       "output_type": "stream",
       "stream": "stderr",
       "text": [
        "INFO:root:calling is_prime with (11,) and {}\n"
       ]
      },
      {
       "output_type": "stream",
       "stream": "stderr",
       "text": [
        "INFO:root:calling is_prime with (12,) and {}\n"
       ]
      },
      {
       "output_type": "stream",
       "stream": "stderr",
       "text": [
        "INFO:root:calling is_prime with (13,) and {}\n"
       ]
      },
      {
       "output_type": "stream",
       "stream": "stderr",
       "text": [
        "INFO:root:calling is_prime with (14,) and {}\n"
       ]
      },
      {
       "output_type": "stream",
       "stream": "stderr",
       "text": [
        "INFO:root:calling is_prime with (15,) and {}\n"
       ]
      },
      {
       "output_type": "stream",
       "stream": "stderr",
       "text": [
        "INFO:root:calling is_prime with (16,) and {}\n"
       ]
      },
      {
       "output_type": "stream",
       "stream": "stderr",
       "text": [
        "INFO:root:calling is_prime with (17,) and {}\n"
       ]
      },
      {
       "output_type": "stream",
       "stream": "stderr",
       "text": [
        "INFO:root:calling is_prime with (18,) and {}\n"
       ]
      },
      {
       "output_type": "stream",
       "stream": "stderr",
       "text": [
        "INFO:root:calling is_prime with (19,) and {}\n"
       ]
      },
      {
       "output_type": "stream",
       "stream": "stderr",
       "text": [
        "INFO:root:calling is_prime with (20,) and {}\n"
       ]
      },
      {
       "output_type": "stream",
       "stream": "stdout",
       "text": [
        "[2, 3, 5, 7, 11, 13, 17, 19]\n",
        "[2, 3, 5, 7, 11, 13, 17, 19]\n",
        "[2, 3, 5, 7, 11, 13, 17, 19]\n"
       ]
      }
     ],
     "prompt_number": 45
    },
    {
     "cell_type": "markdown",
     "metadata": {},
     "source": [
      "Decorating all methods of a class at once\n",
      "-----------------------------------------\n",
      "You also can decorate a class. Using the last logging decorator at a class itself it would log\n",
      "the c'tor only and you would have to add the decorator before each individual method.\n",
      "It can be done easier demonstrated by the next decorator which detects whether the decorated\n",
      "object is a class or a function; when the object is a class we iterate over all callable attributes\n",
      "and decorate them individually."
     ]
    },
    {
     "cell_type": "code",
     "collapsed": false,
     "input": [
      "import types\n",
      "\n",
      "def print_call():\n",
      "    def decorator_function(instance):\n",
      "        def decorator_arguments(*args, **kwargs):\n",
      "            print(\" ... calling %s with %s and %s\" % (instance.__name__, args, kwargs))\n",
      "            return instance(*args, **kwargs)\n",
      "\n",
      "        if isinstance(instance, (types.TypeType, types.ClassType)):\n",
      "            for attr in instance.__dict__:\n",
      "                if callable(getattr(instance, attr)):\n",
      "                    setattr(instance, attr, decorator_function(getattr(instance, attr)))\n",
      "\n",
      "        return decorator_arguments\n",
      "    return decorator_function\n",
      "\n",
      "@print_call()\n",
      "class Foo(object):\n",
      "    def test1(self): print(\"Foo.test1 called\")\n",
      "    def test2(self): print(\"Foo.test2 called\")\n",
      "\n",
      "foo = Foo()\n",
      "foo.test1()\n",
      "foo.test2()"
     ],
     "language": "python",
     "metadata": {},
     "outputs": [
      {
       "output_type": "stream",
       "stream": "stdout",
       "text": [
        " ... calling Foo with () and {}\n",
        " ... calling test1 with (<__main__.Foo object at 0x7fc392116bd0>,) and {}\n",
        "Foo.test1 called\n",
        " ... calling test2 with (<__main__.Foo object at 0x7fc392116bd0>,) and {}\n",
        "Foo.test2 called\n"
       ]
      }
     ],
     "prompt_number": 67
    },
    {
     "cell_type": "code",
     "collapsed": false,
     "input": [],
     "language": "python",
     "metadata": {},
     "outputs": []
    }
   ],
   "metadata": {}
  }
 ]
}