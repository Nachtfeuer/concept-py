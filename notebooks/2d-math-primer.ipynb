{
 "cells": [
  {
   "cell_type": "markdown",
   "metadata": {
    "deletable": true,
    "editable": true
   },
   "source": [
    "# Welcome to the 2d math primer\n",
    "\n",
    "The underlying repository does use Python but this math can be definitely implemented with other languages. I hope you might find it usefull. It's to say - when reading correctly - that you need a quite up-to-date `jupyter` version to work with this document. Let's start with 2d vector.\n",
    "\n",
    "## The 2d vector\n",
    "\n",
    "Please check the repository for `concept/math/vector.py` containing the Python class wrapping the math logic and simplifying the usage.\n",
    "\n",
    "A vector basically provides two information:\n",
    " * direction\n",
    " * length\n",
    " \n",
    "The vector looks like $\\vec{v} = \\begin{pmatrix}v_x\\\\v_y \\end{pmatrix}$ and the length of the vector is calculated by $|\\vec{v}| = \\sqrt{v_x \\cdot v_x + v_y \\cdot v_y}$"
   ]
  },
  {
   "cell_type": "code",
   "execution_count": 5,
   "metadata": {
    "collapsed": false,
    "deletable": true,
    "editable": true
   },
   "outputs": [
    {
     "name": "stdout",
     "output_type": "stream",
     "text": [
      "vector is [3, 4]\n",
      "vector length is 5\n"
     ]
    }
   ],
   "source": [
    "import math\n",
    "len_vector = lambda vector: math.sqrt(vector[0]**2 + vector[1]**2)\n",
    "vector = [3, 4]\n",
    "print(\"vector is %s\" % vector)\n",
    "print(\"vector length is %g\" % len_vector(vector))"
   ]
  },
  {
   "cell_type": "markdown",
   "metadata": {
    "collapsed": true,
    "deletable": true,
    "editable": true
   },
   "source": [
    "#### Sum and difference\n",
    "The sum of two vectors: $\\vec{a} + \\vec{b} = \\begin{pmatrix}a_x + b_x\\\\a_y + b_y\\end{pmatrix}$. For the difference: $\\vec{a} - \\vec{b} = \\begin{pmatrix}a_x - b_x\\\\a_y - b_y\\end{pmatrix}$"
   ]
  },
  {
   "cell_type": "code",
   "execution_count": 5,
   "metadata": {
    "collapsed": false,
    "deletable": true,
    "editable": true
   },
   "outputs": [
    {
     "name": "stdout",
     "output_type": "stream",
     "text": [
      "[1, 2] + [3, 4] = [4, 6]\n",
      "[1, 2] - [3, 4] = [-2, -2]\n"
     ]
    }
   ],
   "source": [
    "sum_vector = lambda a, b: [a[0]+b[0], a[1]+b[1]]\n",
    "diff_vector = lambda a, b: [a[0]-b[0], a[1]-b[1]]\n",
    "\n",
    "vector_a = [1, 2]\n",
    "vector_b = [3, 4]\n",
    "print(\"%s + %s = %s\" % (vector_a, vector_b, sum_vector(vector_a, vector_b)))\n",
    "print(\"%s - %s = %s\" % (vector_a, vector_b, diff_vector(vector_a, vector_b)))"
   ]
  },
  {
   "cell_type": "markdown",
   "metadata": {
    "deletable": true,
    "editable": true
   },
   "source": [
    "#### Products\n",
    "There are different kind of products:\n",
    " * Scale a vector: $f \\cdot \\vec{v} = \\begin{pmatrix}f \\cdot v_x\\\\f \\cdot v_y\\end{pmatrix}$.\n",
    " * The scalar product of two vectors is $\\vec{a} \\cdot \\vec{b} = a_x \\cdot b_x + a_y \\cdot b_y$\n",
    " * The cross product of two vectors is $\\vec{a} x \\vec{b} = a_x \\cdot b_y - a_y \\cdot b_x$"
   ]
  },
  {
   "cell_type": "code",
   "execution_count": 10,
   "metadata": {
    "collapsed": false,
    "deletable": true,
    "editable": true
   },
   "outputs": [
    {
     "name": "stdout",
     "output_type": "stream",
     "text": [
      "3 * [1, 2] = [3, 6]\n",
      "[1, 2] * [3, 4] = 11 (scalar product)\n",
      "[1, 2] x [3, 4] = -2 (cross product)\n"
     ]
    }
   ],
   "source": [
    "scale_vector = lambda f, v: [f * v[0], f * v[1]]\n",
    "scalar_product = lambda a, b: a[0]*b[0] + a[1]*b[1]\n",
    "cross_product = lambda a, b: a[0]*b[1] - a[1]*b[0]\n",
    "\n",
    "print(\"%g * %s = %s\" % (3, vector_a, scale_vector(3, vector_a)))\n",
    "print(\"%s * %s = %s (scalar product)\" % (vector_a, vector_b, scalar_product(vector_a, vector_b)))\n",
    "print(\"%s x %s = %s (cross product)\" % (vector_a, vector_b, cross_product(vector_a, vector_b)))"
   ]
  },
  {
   "cell_type": "markdown",
   "metadata": {
    "collapsed": true,
    "deletable": true,
    "editable": true
   },
   "source": [
    "#### Orthogonal vector\n",
    "\n",
    "For a current vector there are two orthogonal vectors: $\\vec{v} = \\begin{pmatrix}v_x\\\\v_y\\end{pmatrix}$, $\\vec{v_{left}} = \\begin{pmatrix}-v_y\\\\v_x\\end{pmatrix}$, $\\vec{v_{right}} = \\begin{pmatrix}v_y\\\\-v_x\\end{pmatrix}$."
   ]
  },
  {
   "cell_type": "code",
   "execution_count": 2,
   "metadata": {
    "collapsed": false
   },
   "outputs": [
    {
     "name": "stdout",
     "output_type": "stream",
     "text": [
      "[0, 1] rotated 90 degree counter clockwise: [-1, 0]\n",
      "[0, 1] rotated 90 degree clockwise: [1, 0]\n"
     ]
    }
   ],
   "source": [
    "turned_Left = lambda v: [-v[1], v[0]]\n",
    "turned_right = lambda v: [v[1], -v[0]]\n",
    "vector = [0, 1]\n",
    "print(\"%s rotated 90 degree counter clockwise: %s\" % (vector, turned_Left(vector)))\n",
    "print(\"%s rotated 90 degree clockwise: %s\" % (vector, turned_right(vector)))"
   ]
  },
  {
   "cell_type": "markdown",
   "metadata": {},
   "source": [
    "#### Angle between vectors\n",
    "The angle between two vectors is calculated as: $atan2(u_y, u_x) - atan2(v_y, v_x)$"
   ]
  },
  {
   "cell_type": "code",
   "execution_count": 6,
   "metadata": {
    "collapsed": false
   },
   "outputs": [
    {
     "name": "stdout",
     "output_type": "stream",
     "text": [
      "Angle between [0, 1] and [1, 0] is 90 degree\n"
     ]
    }
   ],
   "source": [
    "vector_angle = lambda u, v: math.atan2(u[1], u[0]) - math.atan2(v[1], v[0])\n",
    "vector_a = [0, 1]\n",
    "vector_b = [1, 0]\n",
    "print(\"Angle between %s and %s is %g degree\" \\\n",
    "      % (vector_a, vector_b, vector_angle(vector_a, vector_b) * 180.0/math.pi))"
   ]
  },
  {
   "cell_type": "markdown",
   "metadata": {},
   "source": [
    "#### Rotation of a vector\n",
    "The rotation of vector is calculated using an angle $\\alpha$ with $\\vec{v}_{\\alpha} =\\begin{pmatrix}v_x \\cdot \\cos{\\alpha} - v_y \\cdot \\sin{\\alpha}\\\\v_x \\cdot \\sin{\\alpha} + v_y \\cdot\\cos{\\alpha}\\end{pmatrix}$"
   ]
  },
  {
   "cell_type": "code",
   "execution_count": 11,
   "metadata": {
    "collapsed": false
   },
   "outputs": [
    {
     "name": "stdout",
     "output_type": "stream",
     "text": [
      "Angle [1, 0] rotated 90 degree to the left is [0.0, 1.0]\n",
      "Angle [1, 0] rotated 90 degree to the right is [0.0, -1.0]\n"
     ]
    }
   ],
   "source": [
    "vector_rotated = lambda v, a: [round(v[0] * math.cos(a) - v[1] * math.sin(a), 5),\\\n",
    "                               round(v[0] * math.sin(a) + v[1] * math.cos(a), 5)]\n",
    "vector = [1, 0]\n",
    "print(\"Angle %s rotated 90 degree to the left is %s\" \\\n",
    "      %(vector, vector_rotated(vector, 90 * math.pi / 180.0)))\n",
    "print(\"Angle %s rotated 90 degree to the right is %s\" \\\n",
    "      %(vector, vector_rotated(vector, -90 * math.pi / 180.0)))"
   ]
  },
  {
   "cell_type": "code",
   "execution_count": null,
   "metadata": {
    "collapsed": true
   },
   "outputs": [],
   "source": []
  }
 ],
 "metadata": {
  "kernelspec": {
   "display_name": "Python 3",
   "language": "python",
   "name": "python3"
  },
  "language_info": {
   "codemirror_mode": {
    "name": "ipython",
    "version": 3
   },
   "file_extension": ".py",
   "mimetype": "text/x-python",
   "name": "python",
   "nbconvert_exporter": "python",
   "pygments_lexer": "ipython3",
   "version": "3.4.2"
  }
 },
 "nbformat": 4,
 "nbformat_minor": 2
}
