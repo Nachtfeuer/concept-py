{
 "cells": [
  {
   "cell_type": "markdown",
   "metadata": {},
   "source": [
    "# Welcome to the 2d math primer\n",
    "\n",
    "The underlying repository does use Python but it also can be definitely implemented with other languages. I hope you might find this stuff usefull. It's to say - when reading correctly - that you need a quite up-to-date `jupyter` version to work with this document. Let's start with vector.\n",
    "\n",
    "## The 2d vector\n",
    "A vector basically provides two information:\n",
    " * direction\n",
    " * length\n",
    " \n",
    "The vector looks like $\\vec{v} = \\begin{pmatrix}v_x\\\\v_y \\end{pmatrix}$ and the length of the vector is calculated by $|\\vec{v}| = \\sqrt{v_x \\cdot v_x + v_y \\cdot v_y}$"
   ]
  },
  {
   "cell_type": "code",
   "execution_count": 2,
   "metadata": {
    "collapsed": false
   },
   "outputs": [
    {
     "name": "stdout",
     "output_type": "stream",
     "text": [
      "vector is [3, 4]\n",
      "vector length is 5\n"
     ]
    }
   ],
   "source": [
    "import math\n",
    "vector = [3, 4]\n",
    "vector_len = math.sqrt(vector[0]**2 + vector[1]**2)\n",
    "print(\"vector is %s\" % vector)\n",
    "print(\"vector length is %g\" % vector_len)"
   ]
  },
  {
   "cell_type": "code",
   "execution_count": null,
   "metadata": {
    "collapsed": true
   },
   "outputs": [],
   "source": []
  }
 ],
 "metadata": {
  "kernelspec": {
   "display_name": "Python 3",
   "language": "python",
   "name": "python3"
  },
  "language_info": {
   "codemirror_mode": {
    "name": "ipython",
    "version": 3
   },
   "file_extension": ".py",
   "mimetype": "text/x-python",
   "name": "python",
   "nbconvert_exporter": "python",
   "pygments_lexer": "ipython3",
   "version": "3.4.2"
  }
 },
 "nbformat": 4,
 "nbformat_minor": 2
}
